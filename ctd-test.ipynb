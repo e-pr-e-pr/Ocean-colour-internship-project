{
 "cells": [
  {
   "cell_type": "code",
   "execution_count": 1,
   "metadata": {},
   "outputs": [],
   "source": [
    "import os\n",
    "import matplotlib\n",
    "import matplotlib.pyplot as plt\n",
    "import pandas as pd\n",
    "import numpy as np"
   ]
  },
  {
   "cell_type": "code",
   "execution_count": 4,
   "metadata": {},
   "outputs": [
    {
     "name": "stdout",
     "output_type": "stream",
     "text": [
      "3.8.4\n"
     ]
    }
   ],
   "source": [
    "print(matplotlib.__version__)"
   ]
  },
  {
   "cell_type": "code",
   "execution_count": 2,
   "metadata": {},
   "outputs": [
    {
     "name": "stdout",
     "output_type": "stream",
     "text": [
      "c:\\ProgramData\\anaconda32024\\envs\\ctd-test\\Lib\\site-packages\\matplotlib\\mpl-data\\matplotlibrc\n"
     ]
    }
   ],
   "source": [
    "print(matplotlib.matplotlib_fname())"
   ]
  },
  {
   "cell_type": "code",
   "execution_count": 17,
   "metadata": {},
   "outputs": [
    {
     "name": "stdout",
     "output_type": "stream",
     "text": [
      "ALLUSERSPROFILE: C:\\ProgramData\n",
      "APPDATA: C:\\Users\\a86963\\AppData\\Roaming\n",
      "CHROME_CRASHPAD_PIPE_NAME: \\\\.\\pipe\\crashpad_2184_LXBNEFTGWLGTWSNC\n",
      "CLICOLOR: 1\n",
      "CLICOLOR_FORCE: 1\n",
      "COMMONPROGRAMFILES: C:\\Program Files\\Common Files\n",
      "COMMONPROGRAMFILES(X86): C:\\Program Files (x86)\\Common Files\n",
      "COMMONPROGRAMW6432: C:\\Program Files\\Common Files\n",
      "COMPUTERNAME: CIMA-E7-172-01\n",
      "COMSPEC: C:\\WINDOWS\\system32\\cmd.exe\n",
      "CONDA_DEFAULT_ENV: ctd-test\n",
      "CONDA_EXE: C:\\ProgramData\\anaconda32024\\Scripts\\conda.exe\n",
      "CONDA_PREFIX: C:\\ProgramData\\anaconda32024\\envs\\ctd-test\n",
      "CONDA_PROMPT_MODIFIER: (ctd-test) \n",
      "CONDA_PYTHON_EXE: C:\\ProgramData\\anaconda32024\\python.exe\n",
      "CONDA_ROOT: C:\\ProgramData\\anaconda32024\n",
      "CONDA_SHLVL: 1\n",
      "DRIVERDATA: C:\\Windows\\System32\\Drivers\\DriverData\n",
      "ELECTRON_RUN_AS_NODE: 1\n",
      "FLEXLM_TIMEOUT: 3000000\n",
      "FORCE_COLOR: 1\n",
      "FPS_BROWSER_APP_PROFILE_STRING: Internet Explorer\n",
      "FPS_BROWSER_USER_PROFILE_STRING: Default\n",
      "GIT_PAGER: cat\n",
      "HOMEDRIVE: C:\n",
      "HOMEPATH: \\Users\\a86963\n",
      "JPY_INTERRUPT_EVENT: 1368\n",
      "LOCALAPPDATA: C:\\Users\\a86963\\AppData\\Local\n",
      "LOGONSERVER: \\\\SI-SDC-02\n",
      "MPLBACKEND: module://matplotlib_inline.backend_inline\n",
      "NUMBER_OF_PROCESSORS: 16\n",
      "ONEDRIVE: C:\\Users\\a86963\\OneDrive\n",
      "ORIGINAL_XDG_CURRENT_DESKTOP: undefined\n",
      "OS: Windows_NT\n",
      "PAGER: cat\n",
      "PATH: c:\\ProgramData\\anaconda32024\\envs\\ctd-test;C:\\ProgramData\\anaconda32024\\envs\\ctd-test;C:\\ProgramData\\anaconda32024\\envs\\ctd-test\\Library\\mingw-w64\\bin;C:\\ProgramData\\anaconda32024\\envs\\ctd-test\\Library\\usr\\bin;C:\\ProgramData\\anaconda32024\\envs\\ctd-test\\Library\\bin;C:\\ProgramData\\anaconda32024\\envs\\ctd-test\\Scripts;C:\\ProgramData\\anaconda32024\\envs\\ctd-test\\bin;C:\\ProgramData\\anaconda32024\\condabin;C:\\Program Files (x86)\\Common Files\\Oracle\\Java\\javapath;C:\\WINDOWS\\system32;C:\\WINDOWS;C:\\WINDOWS\\System32\\Wbem;C:\\WINDOWS\\System32\\WindowsPowerShell\\v1.0;C:\\WINDOWS\\System32\\OpenSSH;C:\\Program Files\\Inkscape\\bin;C:\\Program Files\\dotnet;C:\\Program Files\\MATLAB\\R2021a\\runtime\\win64;C:\\Program Files\\MATLAB\\R2021a\\bin;C:\\ProgramData\\anaconda32024\\Scripts;C:\\Program Files\\Portugal Identity Card;C:\\Users\\a86963\\AppData\\Local\\Microsoft\\WindowsApps;C:\\Users\\a86963\\AppData\\Local\\Programs\\Microsoft VS Code\\bin\n",
      "PATHEXT: .COM;.EXE;.BAT;.CMD;.VBS;.VBE;.JS;.JSE;.WSF;.WSH;.MSC\n",
      "PROCESSOR_ARCHITECTURE: AMD64\n",
      "PROCESSOR_IDENTIFIER: Intel64 Family 6 Model 165 Stepping 5, GenuineIntel\n",
      "PROCESSOR_LEVEL: 6\n",
      "PROCESSOR_REVISION: a505\n",
      "PROGRAMDATA: C:\\ProgramData\n",
      "PROGRAMFILES: C:\\Program Files\n",
      "PROGRAMFILES(X86): C:\\Program Files (x86)\n",
      "PROGRAMW6432: C:\\Program Files\n",
      "PROMPT: (ctd-test) $P$G\n",
      "PSMODULEPATH: C:\\Program Files\\WindowsPowerShell\\Modules;C:\\WINDOWS\\system32\\WindowsPowerShell\\v1.0\\Modules\n",
      "PUBLIC: C:\\Users\\Public\n",
      "PYDEVD_IPYTHON_COMPATIBLE_DEBUGGING: 1\n",
      "PYDEVD_USE_FRAME_EVAL: NO\n",
      "PYTHONIOENCODING: utf-8\n",
      "PYTHONUNBUFFERED: 1\n",
      "PYTHONUTF8: 1\n",
      "PYTHON_FROZEN_MODULES: on\n",
      "SESSIONNAME: Console\n",
      "SSL_CERT_FILE: C:\\ProgramData\\anaconda32024\\envs\\ctd-test\\Library\\ssl\\cacert.pem\n",
      "SYSTEMDRIVE: C:\n",
      "SYSTEMROOT: C:\\WINDOWS\n",
      "TEMP: C:\\Users\\a86963\\AppData\\Local\\Temp\n",
      "TERM: xterm-color\n",
      "TMP: C:\\Users\\a86963\\AppData\\Local\\Temp\n",
      "UATDATA: C:\\Windows\\CCM\\UATData\\D9F8C395-CAB8-491d-B8AC-179A1FE1BE77\n",
      "USERDNSDOMAIN: UALG.PT\n",
      "USERDOMAIN: UALG\n",
      "USERDOMAIN_ROAMINGPROFILE: UALG\n",
      "USERNAME: a86963\n",
      "USERPROFILE: C:\\Users\\a86963\n",
      "VSCODE_AMD_ENTRYPOINT: vs/workbench/api/node/extensionHostProcess\n",
      "VSCODE_CODE_CACHE_PATH: C:\\Users\\a86963\\AppData\\Roaming\\Code\\CachedData\\dc96b837cf6bb4af9cd736aa3af08cf8279f7685\n",
      "VSCODE_CRASH_REPORTER_PROCESS_TYPE: extensionHost\n",
      "VSCODE_CWD: C:\\Users\\a86963\\AppData\\Local\\Programs\\Microsoft VS Code\n",
      "VSCODE_HANDLES_UNCAUGHT_ERRORS: true\n",
      "VSCODE_IPC_HOOK: \\\\.\\pipe\\24ae51f1-1.89.1-main-sock\n",
      "VSCODE_L10N_BUNDLE_LOCATION: \n",
      "VSCODE_NLS_CONFIG: {\"locale\":\"en-us\",\"osLocale\":\"en-gb\",\"availableLanguages\":{},\"_languagePackSupport\":true}\n",
      "VSCODE_PID: 2184\n",
      "WINDIR: C:\\WINDOWS\n",
      "ZES_ENABLE_SYSMAN: 1\n",
      "_CONDA_OLD_CHCP: 850\n",
      "__CONDA_OPENSLL_CERT_FILE_SET: \"1\"\n"
     ]
    }
   ],
   "source": [
    "for key in sorted(os.environ):\n",
    "    print(key + ': ' + os.environ[key])\n"
   ]
  },
  {
   "cell_type": "code",
   "execution_count": 3,
   "metadata": {},
   "outputs": [
    {
     "data": {
      "text/plain": [
       "'module://matplotlib_inline.backend_inline'"
      ]
     },
     "execution_count": 3,
     "metadata": {},
     "output_type": "execute_result"
    }
   ],
   "source": [
    "matplotlib.get_backend()\n",
    "# should be the same. try: %matplotlib inline"
   ]
  },
  {
   "cell_type": "code",
   "execution_count": null,
   "metadata": {},
   "outputs": [],
   "source": []
  },
  {
   "cell_type": "markdown",
   "metadata": {},
   "source": [
    "## conda list:\n",
    "# packages in environment at C:\\ProgramData\\anaconda32024\\envs\\ctd-test:\n",
    "#\n",
    "# Name                    Version                   Build  Channel\n",
    "asttokens                 2.0.5              pyhd3eb1b0_0\n",
    "blas                      1.0                         mkl\n",
    "bottleneck                1.3.7           py312he558020_0\n",
    "brotli                    1.0.9                h2bbff1b_8\n",
    "brotli-bin                1.0.9                h2bbff1b_8\n",
    "bzip2                     1.0.8                h2bbff1b_6\n",
    "ca-certificates           2024.3.11            haa95532_0\n",
    "colorama                  0.4.6           py312haa95532_0\n",
    "comm                      0.2.1           py312haa95532_0\n",
    "contourpy                 1.2.0           py312h59b6b97_0\n",
    "cycler                    0.11.0             pyhd3eb1b0_0\n",
    "debugpy                   1.6.7           py312hd77b12b_0\n",
    "decorator                 5.1.1              pyhd3eb1b0_0\n",
    "executing                 0.8.3              pyhd3eb1b0_0\n",
    "expat                     2.6.2                hd77b12b_0\n",
    "fonttools                 4.51.0          py312h2bbff1b_0\n",
    "freetype                  2.12.1               ha860e81_0\n",
    "icu                       73.1                 h6c2663c_0\n",
    "intel-openmp              2023.1.0         h59b6b97_46320\n",
    "ipykernel                 6.28.0          py312haa95532_0\n",
    "ipython                   8.20.0          py312haa95532_0\n",
    "jedi                      0.18.1          py312haa95532_1\n",
    "jpeg                      9e                   h2bbff1b_1\n",
    "jupyter_client            8.6.0           py312haa95532_0\n",
    "jupyter_core              5.5.0           py312haa95532_0\n",
    "kiwisolver                1.4.4           py312hd77b12b_0\n",
    "krb5                      1.20.1               h5b6d351_0\n",
    "lcms2                     2.12                 h83e58a3_0\n",
    "lerc                      3.0                  hd77b12b_0\n",
    "libbrotlicommon           1.0.9                h2bbff1b_8\n",
    "libbrotlidec              1.0.9                h2bbff1b_8\n",
    "libbrotlienc              1.0.9                h2bbff1b_8\n",
    "libclang                  14.0.6          default_hb5a9fac_1\n",
    "libclang13                14.0.6          default_h8e68704_1\n",
    "libdeflate                1.17                 h2bbff1b_1\n",
    "libffi                    3.4.4                hd77b12b_1\n",
    "libpng                    1.6.39               h8cc25b3_0\n",
    "libpq                     12.17                h906ac69_0\n",
    "libsodium                 1.0.18               h62dcd97_0\n",
    "libtiff                   4.5.1                hd77b12b_0\n",
    "libwebp-base              1.3.2                h2bbff1b_0\n",
    "lz4-c                     1.9.4                h2bbff1b_1\n",
    "matplotlib                3.8.4           py312haa95532_0\n",
    "matplotlib-base           3.8.4           py312hc7c4135_0\n",
    "matplotlib-inline         0.1.6           py312haa95532_0\n",
    "mkl                       2023.1.0         h6b88ed4_46358\n",
    "mkl-service               2.4.0           py312h2bbff1b_1\n",
    "mkl_fft                   1.3.8           py312h2bbff1b_0\n",
    "mkl_random                1.2.4           py312h59b6b97_0\n",
    "nest-asyncio              1.6.0           py312haa95532_0\n",
    "numexpr                   2.8.7           py312h96b7d27_0\n",
    "numpy                     1.26.4          py312hfd52020_0\n",
    "numpy-base                1.26.4          py312h4dde369_0\n",
    "openjpeg                  2.4.0                h4fc8c34_0\n",
    "openssl                   3.0.13               h2bbff1b_1\n",
    "packaging                 23.2            py312haa95532_0\n",
    "pandas                    2.2.1           py312h0158946_0\n",
    "parso                     0.8.3              pyhd3eb1b0_0\n",
    "pillow                    10.3.0          py312h2bbff1b_0\n",
    "pip                       24.0            py312haa95532_0\n",
    "platformdirs              3.10.0          py312haa95532_0\n",
    "ply                       3.11            py312haa95532_1\n",
    "prompt-toolkit            3.0.43          py312haa95532_0\n",
    "prompt_toolkit            3.0.43               hd3eb1b0_0\n",
    "psutil                    5.9.0           py312h2bbff1b_0\n",
    "pure_eval                 0.2.2              pyhd3eb1b0_0\n",
    "pygments                  2.15.1          py312haa95532_1\n",
    "pyparsing                 3.0.9           py312haa95532_0\n",
    "pyqt                      5.15.10         py312hd77b12b_0\n",
    "pyqt5-sip                 12.13.0         py312h2bbff1b_0\n",
    "python                    3.12.3               h1d929f7_1\n",
    "python-dateutil           2.9.0post0      py312haa95532_0\n",
    "python-tzdata             2023.3             pyhd3eb1b0_0\n",
    "pytz                      2024.1          py312haa95532_0\n",
    "pywin32                   305             py312h2bbff1b_0\n",
    "pyzmq                     25.1.2          py312hd77b12b_0\n",
    "qt-main                   5.15.2              h19c9488_10\n",
    "setuptools                69.5.1          py312haa95532_0\n",
    "sip                       6.7.12          py312hd77b12b_0\n",
    "six                       1.16.0             pyhd3eb1b0_1\n",
    "sqlite                    3.45.3               h2bbff1b_0\n",
    "stack_data                0.2.0              pyhd3eb1b0_0\n",
    "tbb                       2021.8.0             h59b6b97_0\n",
    "tk                        8.6.14               h0416ee5_0\n",
    "tornado                   6.3.3           py312h2bbff1b_0\n",
    "traitlets                 5.7.1           py312haa95532_0\n",
    "tzdata                    2024a                h04d1e81_0\n",
    "unicodedata2              15.1.0          py312h2bbff1b_0\n",
    "vc                        14.2                 h2eaa2aa_1\n",
    "vs2015_runtime            14.29.30133          h43f2093_3\n",
    "wcwidth                   0.2.5              pyhd3eb1b0_0\n",
    "wheel                     0.43.0          py312haa95532_0\n",
    "xz                        5.4.6                h8cc25b3_1\n",
    "zeromq                    4.3.5                hd77b12b_0\n",
    "zlib                      1.2.13               h8cc25b3_1\n",
    "zstd                      1.5.5                hd43e919_2"
   ]
  },
  {
   "cell_type": "code",
   "execution_count": null,
   "metadata": {},
   "outputs": [],
   "source": []
  },
  {
   "cell_type": "code",
   "execution_count": 2,
   "metadata": {},
   "outputs": [],
   "source": [
    "directory = 'C:/Users/a86963/Documents/data/ctd/19april2024/'"
   ]
  },
  {
   "cell_type": "code",
   "execution_count": 3,
   "metadata": {},
   "outputs": [
    {
     "data": {
      "text/plain": [
       "['VEI_X5733_240422183946_WEST_compensated.txt',\n",
       " 'VEI_X5733_240422183946_WEST_compensated.xlsx',\n",
       " 'VEI_X5733_240422184455_C.WEST_compensated.txt',\n",
       " 'VEI_X5733_240422184455_C.WEST_compensated.xlsx',\n",
       " 'VEI_X5733_240422184702_C.EAST_compensated.txt',\n",
       " 'VEI_X5733_240422184702_C.EAST_compensated.xlsx',\n",
       " 'VEI_X5733_240422184928_EAST_compensated.txt',\n",
       " 'VEI_X5733_240422184928_EAST_compensated.xlsx']"
      ]
     },
     "execution_count": 3,
     "metadata": {},
     "output_type": "execute_result"
    }
   ],
   "source": [
    "os.listdir(directory)"
   ]
  },
  {
   "cell_type": "code",
   "execution_count": 4,
   "metadata": {},
   "outputs": [],
   "source": [
    "ds_west= pd.read_csv(f\"{directory}VEI_X5733_240422183946_WEST_compensated.txt\", sep=\"\\t\") # indicates the delimiter\n",
    "ds_c_west= pd.read_csv(f\"{directory}VEI_X5733_240422184455_C.WEST_compensated.txt\", sep=\"\\t\") \n",
    "ds_c_east= pd.read_csv(f\"{directory}VEI_X5733_240422184702_C.EAST_compensated.txt\", sep=\"\\t\") \n",
    "ds_east= pd.read_csv(f\"{directory}VEI_X5733_240422184928_EAST_compensated.txt\", sep=\"\\t\") "
   ]
  },
  {
   "cell_type": "code",
   "execution_count": 5,
   "metadata": {},
   "outputs": [],
   "source": [
    "# drop the values at the beginning and end that are offering erroneous results, emaured outside of the water\n",
    "ds_west = ds_west.drop(index=np.r_[0:10, 314:325]) # i determined this already by printing them, which ones needed to go, mainly by looking at salinity, since that has the least variance over the water column\n",
    "ds_c_west = ds_c_west.drop(index=np.r_[0:5, 423:443])\n",
    "ds_c_east = ds_c_east.drop(index=np.r_[0:4, 225:255])\n",
    "ds_east = ds_east.drop(index=np.r_[0:7, 120:127])"
   ]
  },
  {
   "cell_type": "code",
   "execution_count": 6,
   "metadata": {},
   "outputs": [],
   "source": [
    "max_pressure_index = ds_west['Pressure'].idxmax() # assumption: max pressure is deepest point, at which point it must start coming up again\n",
    "\n",
    "west_surface_down = ds_west.iloc[:max_pressure_index]\n",
    "west_bottom_up= ds_west.iloc[max_pressure_index:]"
   ]
  },
  {
   "cell_type": "code",
   "execution_count": 13,
   "metadata": {},
   "outputs": [],
   "source": [
    "%matplotlib inline"
   ]
  },
  {
   "cell_type": "code",
   "execution_count": 14,
   "metadata": {},
   "outputs": [
    {
     "data": {
      "image/png": "[encoded data removed]",
      "text/plain": [
       "<Figure size 1600x800 with 2 Axes>"
      ]
     },
     "metadata": {},
     "output_type": "display_data"
    }
   ],
   "source": [
    "fig, axs = plt.subplots(1, 2, figsize=(16, 8))\n",
    "\n",
    "temp_data = west_bottom_up['Temperature']\n",
    "salinity_data = west_bottom_up['Salinity']\n",
    "\n",
    "\n",
    "pressure_data = west_bottom_up['Pressure']\n",
    "\n",
    "axs[0].scatter(temp_data, pressure_data, color='blue')\n",
    "axs[0].set_xlabel('Temperature (C)')\n",
    "axs[0].set_ylabel('Pressure (mH$_2$O)')\n",
    "axs[0].yaxis.set_ticks_position('left')  \n",
    "axs[0].xaxis.set_ticks_position('top')\n",
    "axs[0].xaxis.set_label_position('top')\n",
    "axs[0].invert_yaxis()\n",
    "axs[0].set_title('Temperature vs Pressure, station: west, upwelling cast')\n",
    "\n",
    "\n",
    "axs[1].scatter(salinity_data, pressure_data, color='red')\n",
    "axs[1].set_xlabel('Salinity (ppt)')\n",
    "axs[1].set_ylabel('Pressure (mH$_2$O)')\n",
    "axs[1].yaxis.set_ticks_position('left')  \n",
    "axs[1].xaxis.set_ticks_position('top')\n",
    "axs[1].xaxis.set_label_position('top')  \n",
    "axs[1].invert_yaxis()\n",
    "axs[1].set_title('Salinity vs Pressure, station: West, upwelling cast')\n",
    "\n",
    "#plt.savefig('C:/Users/a86963/Documents/results/figures/west_upwelling_cast.png')\n",
    "plt.show()"
   ]
  },
  {
   "cell_type": "code",
   "execution_count": null,
   "metadata": {},
   "outputs": [],
   "source": []
  },
  {
   "cell_type": "code",
   "execution_count": null,
   "metadata": {},
   "outputs": [],
   "source": []
  },
  {
   "cell_type": "code",
   "execution_count": null,
   "metadata": {},
   "outputs": [],
   "source": []
  },
  {
   "cell_type": "code",
   "execution_count": null,
   "metadata": {},
   "outputs": [],
   "source": []
  }
 ],
 "metadata": {
  "kernelspec": {
   "display_name": "ctd-test",
   "language": "python",
   "name": "python3"
  },
  "language_info": {
   "codemirror_mode": {
    "name": "ipython",
    "version": 3
   },
   "file_extension": ".py",
   "mimetype": "text/x-python",
   "name": "python",
   "nbconvert_exporter": "python",
   "pygments_lexer": "ipython3",
   "version": "3.12.3"
  }
 },
 "nbformat": 4,
 "nbformat_minor": 2
}
